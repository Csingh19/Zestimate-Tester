{
 "cells": [
  {
   "cell_type": "markdown",
   "id": "609b7a6f-93dd-41ce-aab1-0288f2d8655b",
   "metadata": {},
   "source": [
    "## Setup and Data Preprocessing"
   ]
  },
  {
   "cell_type": "code",
   "execution_count": 1,
   "id": "98b9e8d8-b810-4b36-872d-562cbcf3f570",
   "metadata": {},
   "outputs": [],
   "source": [
    "# Import necessary libraries\n",
    "import numpy as np\n",
    "import pandas as pd\n",
    "from sklearn.model_selection import train_test_split"
   ]
  },
  {
   "cell_type": "code",
   "execution_count": 2,
   "id": "7437a26c-a1f5-4def-b695-627dba2d24dc",
   "metadata": {},
   "outputs": [
    {
     "data": {
      "text/html": [
       "<div>\n",
       "<style scoped>\n",
       "    .dataframe tbody tr th:only-of-type {\n",
       "        vertical-align: middle;\n",
       "    }\n",
       "\n",
       "    .dataframe tbody tr th {\n",
       "        vertical-align: top;\n",
       "    }\n",
       "\n",
       "    .dataframe thead th {\n",
       "        text-align: right;\n",
       "    }\n",
       "</style>\n",
       "<table border=\"1\" class=\"dataframe\">\n",
       "  <thead>\n",
       "    <tr style=\"text-align: right;\">\n",
       "      <th></th>\n",
       "      <th>parcelid</th>\n",
       "      <th>logerror</th>\n",
       "      <th>transactiondate</th>\n",
       "    </tr>\n",
       "  </thead>\n",
       "  <tbody>\n",
       "    <tr>\n",
       "      <th>0</th>\n",
       "      <td>11016594</td>\n",
       "      <td>0.0276</td>\n",
       "      <td>2016-01-01</td>\n",
       "    </tr>\n",
       "    <tr>\n",
       "      <th>1</th>\n",
       "      <td>14366692</td>\n",
       "      <td>-0.1684</td>\n",
       "      <td>2016-01-01</td>\n",
       "    </tr>\n",
       "    <tr>\n",
       "      <th>2</th>\n",
       "      <td>12098116</td>\n",
       "      <td>-0.0040</td>\n",
       "      <td>2016-01-01</td>\n",
       "    </tr>\n",
       "    <tr>\n",
       "      <th>3</th>\n",
       "      <td>12643413</td>\n",
       "      <td>0.0218</td>\n",
       "      <td>2016-01-02</td>\n",
       "    </tr>\n",
       "    <tr>\n",
       "      <th>4</th>\n",
       "      <td>14432541</td>\n",
       "      <td>-0.0050</td>\n",
       "      <td>2016-01-02</td>\n",
       "    </tr>\n",
       "  </tbody>\n",
       "</table>\n",
       "</div>"
      ],
      "text/plain": [
       "   parcelid  logerror transactiondate\n",
       "0  11016594    0.0276      2016-01-01\n",
       "1  14366692   -0.1684      2016-01-01\n",
       "2  12098116   -0.0040      2016-01-01\n",
       "3  12643413    0.0218      2016-01-02\n",
       "4  14432541   -0.0050      2016-01-02"
      ]
     },
     "execution_count": 2,
     "metadata": {},
     "output_type": "execute_result"
    }
   ],
   "source": [
    "# Import the dataset and parse the 'transactiondate' column as dates\n",
    "raw_train_data =pd.read_csv(\"./train_2016_v2.csv\",parse_dates=[\"transactiondate\"])\n",
    "raw_train_data.head()"
   ]
  },
  {
   "cell_type": "code",
   "execution_count": 3,
   "id": "db44470c-6363-405c-9c01-8c371a1b44c9",
   "metadata": {},
   "outputs": [
    {
     "name": "stderr",
     "output_type": "stream",
     "text": [
      "/work/cse478/shared/envs/hw/lib/python3.8/site-packages/IPython/core/interactiveshell.py:3441: DtypeWarning: Columns (22,32,34,49,55) have mixed types.Specify dtype option on import or set low_memory=False.\n",
      "  exec(code_obj, self.user_global_ns, self.user_ns)\n"
     ]
    },
    {
     "data": {
      "text/html": [
       "<div>\n",
       "<style scoped>\n",
       "    .dataframe tbody tr th:only-of-type {\n",
       "        vertical-align: middle;\n",
       "    }\n",
       "\n",
       "    .dataframe tbody tr th {\n",
       "        vertical-align: top;\n",
       "    }\n",
       "\n",
       "    .dataframe thead th {\n",
       "        text-align: right;\n",
       "    }\n",
       "</style>\n",
       "<table border=\"1\" class=\"dataframe\">\n",
       "  <thead>\n",
       "    <tr style=\"text-align: right;\">\n",
       "      <th></th>\n",
       "      <th>parcelid</th>\n",
       "      <th>airconditioningtypeid</th>\n",
       "      <th>architecturalstyletypeid</th>\n",
       "      <th>basementsqft</th>\n",
       "      <th>bathroomcnt</th>\n",
       "      <th>bedroomcnt</th>\n",
       "      <th>buildingclasstypeid</th>\n",
       "      <th>buildingqualitytypeid</th>\n",
       "      <th>calculatedbathnbr</th>\n",
       "      <th>decktypeid</th>\n",
       "      <th>...</th>\n",
       "      <th>numberofstories</th>\n",
       "      <th>fireplaceflag</th>\n",
       "      <th>structuretaxvaluedollarcnt</th>\n",
       "      <th>taxvaluedollarcnt</th>\n",
       "      <th>assessmentyear</th>\n",
       "      <th>landtaxvaluedollarcnt</th>\n",
       "      <th>taxamount</th>\n",
       "      <th>taxdelinquencyflag</th>\n",
       "      <th>taxdelinquencyyear</th>\n",
       "      <th>censustractandblock</th>\n",
       "    </tr>\n",
       "  </thead>\n",
       "  <tbody>\n",
       "    <tr>\n",
       "      <th>0</th>\n",
       "      <td>10754147</td>\n",
       "      <td>NaN</td>\n",
       "      <td>NaN</td>\n",
       "      <td>NaN</td>\n",
       "      <td>0.0</td>\n",
       "      <td>0.0</td>\n",
       "      <td>NaN</td>\n",
       "      <td>NaN</td>\n",
       "      <td>NaN</td>\n",
       "      <td>NaN</td>\n",
       "      <td>...</td>\n",
       "      <td>NaN</td>\n",
       "      <td>NaN</td>\n",
       "      <td>NaN</td>\n",
       "      <td>9.0</td>\n",
       "      <td>2015.0</td>\n",
       "      <td>9.0</td>\n",
       "      <td>NaN</td>\n",
       "      <td>NaN</td>\n",
       "      <td>NaN</td>\n",
       "      <td>NaN</td>\n",
       "    </tr>\n",
       "    <tr>\n",
       "      <th>1</th>\n",
       "      <td>10759547</td>\n",
       "      <td>NaN</td>\n",
       "      <td>NaN</td>\n",
       "      <td>NaN</td>\n",
       "      <td>0.0</td>\n",
       "      <td>0.0</td>\n",
       "      <td>NaN</td>\n",
       "      <td>NaN</td>\n",
       "      <td>NaN</td>\n",
       "      <td>NaN</td>\n",
       "      <td>...</td>\n",
       "      <td>NaN</td>\n",
       "      <td>NaN</td>\n",
       "      <td>NaN</td>\n",
       "      <td>27516.0</td>\n",
       "      <td>2015.0</td>\n",
       "      <td>27516.0</td>\n",
       "      <td>NaN</td>\n",
       "      <td>NaN</td>\n",
       "      <td>NaN</td>\n",
       "      <td>NaN</td>\n",
       "    </tr>\n",
       "    <tr>\n",
       "      <th>2</th>\n",
       "      <td>10843547</td>\n",
       "      <td>NaN</td>\n",
       "      <td>NaN</td>\n",
       "      <td>NaN</td>\n",
       "      <td>0.0</td>\n",
       "      <td>0.0</td>\n",
       "      <td>NaN</td>\n",
       "      <td>NaN</td>\n",
       "      <td>NaN</td>\n",
       "      <td>NaN</td>\n",
       "      <td>...</td>\n",
       "      <td>NaN</td>\n",
       "      <td>NaN</td>\n",
       "      <td>650756.0</td>\n",
       "      <td>1413387.0</td>\n",
       "      <td>2015.0</td>\n",
       "      <td>762631.0</td>\n",
       "      <td>20800.37</td>\n",
       "      <td>NaN</td>\n",
       "      <td>NaN</td>\n",
       "      <td>NaN</td>\n",
       "    </tr>\n",
       "    <tr>\n",
       "      <th>3</th>\n",
       "      <td>10859147</td>\n",
       "      <td>NaN</td>\n",
       "      <td>NaN</td>\n",
       "      <td>NaN</td>\n",
       "      <td>0.0</td>\n",
       "      <td>0.0</td>\n",
       "      <td>3.0</td>\n",
       "      <td>7.0</td>\n",
       "      <td>NaN</td>\n",
       "      <td>NaN</td>\n",
       "      <td>...</td>\n",
       "      <td>1.0</td>\n",
       "      <td>NaN</td>\n",
       "      <td>571346.0</td>\n",
       "      <td>1156834.0</td>\n",
       "      <td>2015.0</td>\n",
       "      <td>585488.0</td>\n",
       "      <td>14557.57</td>\n",
       "      <td>NaN</td>\n",
       "      <td>NaN</td>\n",
       "      <td>NaN</td>\n",
       "    </tr>\n",
       "    <tr>\n",
       "      <th>4</th>\n",
       "      <td>10879947</td>\n",
       "      <td>NaN</td>\n",
       "      <td>NaN</td>\n",
       "      <td>NaN</td>\n",
       "      <td>0.0</td>\n",
       "      <td>0.0</td>\n",
       "      <td>4.0</td>\n",
       "      <td>NaN</td>\n",
       "      <td>NaN</td>\n",
       "      <td>NaN</td>\n",
       "      <td>...</td>\n",
       "      <td>NaN</td>\n",
       "      <td>NaN</td>\n",
       "      <td>193796.0</td>\n",
       "      <td>433491.0</td>\n",
       "      <td>2015.0</td>\n",
       "      <td>239695.0</td>\n",
       "      <td>5725.17</td>\n",
       "      <td>NaN</td>\n",
       "      <td>NaN</td>\n",
       "      <td>NaN</td>\n",
       "    </tr>\n",
       "  </tbody>\n",
       "</table>\n",
       "<p>5 rows × 58 columns</p>\n",
       "</div>"
      ],
      "text/plain": [
       "   parcelid  airconditioningtypeid  architecturalstyletypeid  basementsqft  \\\n",
       "0  10754147                    NaN                       NaN           NaN   \n",
       "1  10759547                    NaN                       NaN           NaN   \n",
       "2  10843547                    NaN                       NaN           NaN   \n",
       "3  10859147                    NaN                       NaN           NaN   \n",
       "4  10879947                    NaN                       NaN           NaN   \n",
       "\n",
       "   bathroomcnt  bedroomcnt  buildingclasstypeid  buildingqualitytypeid  \\\n",
       "0          0.0         0.0                  NaN                    NaN   \n",
       "1          0.0         0.0                  NaN                    NaN   \n",
       "2          0.0         0.0                  NaN                    NaN   \n",
       "3          0.0         0.0                  3.0                    7.0   \n",
       "4          0.0         0.0                  4.0                    NaN   \n",
       "\n",
       "   calculatedbathnbr  decktypeid  ...  numberofstories  fireplaceflag  \\\n",
       "0                NaN         NaN  ...              NaN            NaN   \n",
       "1                NaN         NaN  ...              NaN            NaN   \n",
       "2                NaN         NaN  ...              NaN            NaN   \n",
       "3                NaN         NaN  ...              1.0            NaN   \n",
       "4                NaN         NaN  ...              NaN            NaN   \n",
       "\n",
       "   structuretaxvaluedollarcnt  taxvaluedollarcnt  assessmentyear  \\\n",
       "0                         NaN                9.0          2015.0   \n",
       "1                         NaN            27516.0          2015.0   \n",
       "2                    650756.0          1413387.0          2015.0   \n",
       "3                    571346.0          1156834.0          2015.0   \n",
       "4                    193796.0           433491.0          2015.0   \n",
       "\n",
       "   landtaxvaluedollarcnt  taxamount  taxdelinquencyflag  taxdelinquencyyear  \\\n",
       "0                    9.0        NaN                 NaN                 NaN   \n",
       "1                27516.0        NaN                 NaN                 NaN   \n",
       "2               762631.0   20800.37                 NaN                 NaN   \n",
       "3               585488.0   14557.57                 NaN                 NaN   \n",
       "4               239695.0    5725.17                 NaN                 NaN   \n",
       "\n",
       "   censustractandblock  \n",
       "0                  NaN  \n",
       "1                  NaN  \n",
       "2                  NaN  \n",
       "3                  NaN  \n",
       "4                  NaN  \n",
       "\n",
       "[5 rows x 58 columns]"
      ]
     },
     "execution_count": 3,
     "metadata": {},
     "output_type": "execute_result"
    }
   ],
   "source": [
    "# Import additional dataset related to properties\n",
    "house_data = pd.read_csv(\"./properties_2016.csv\")\n",
    "house_data.head()"
   ]
  },
  {
   "cell_type": "code",
   "execution_count": 4,
   "id": "993fe959-7c47-478d-b643-d57080c20a74",
   "metadata": {},
   "outputs": [],
   "source": [
    "def get_unique(name,data_series):\n",
    "    \"\"\"\n",
    "    Function to print information about unique values in a given data series.\n",
    "\n",
    "    Parameters:\n",
    "    - name: A string representing the name or description of the data series.\n",
    "    - data_series: The Pandas Series for which unique values are analyzed.\n",
    "\n",
    "    Output:\n",
    "    - Prints the total number of records and the number of unique records in the data series.\n",
    "    \"\"\"\n",
    "    print(\"{} has total {} records and {} are unique.\".format(name,len(data_series),len(data_series.unique())))"
   ]
  },
  {
   "cell_type": "code",
   "execution_count": 5,
   "id": "ec2a7674-4964-483b-a04e-a6625030f958",
   "metadata": {},
   "outputs": [
    {
     "name": "stdout",
     "output_type": "stream",
     "text": [
      "raw_train_data has total 90275 records and 90150 are unique.\n"
     ]
    }
   ],
   "source": [
    "get_unique(\"raw_train_data\",raw_train_data[\"parcelid\"])"
   ]
  },
  {
   "cell_type": "code",
   "execution_count": 6,
   "id": "a3e1fca9-2b43-49e2-a778-87aae0c086fa",
   "metadata": {},
   "outputs": [
    {
     "name": "stdout",
     "output_type": "stream",
     "text": [
      "house_data has total 2985217 records and 2985217 are unique.\n"
     ]
    }
   ],
   "source": [
    "get_unique(\"house_data\",house_data[\"parcelid\"])"
   ]
  },
  {
   "cell_type": "code",
   "execution_count": 7,
   "id": "0b6f2dc2-edd6-4721-ac2a-2bd9ac946b79",
   "metadata": {},
   "outputs": [
    {
     "name": "stdout",
     "output_type": "stream",
     "text": [
      "All Duplicate Rows based on all columns are :\n"
     ]
    },
    {
     "data": {
      "text/html": [
       "<div>\n",
       "<style scoped>\n",
       "    .dataframe tbody tr th:only-of-type {\n",
       "        vertical-align: middle;\n",
       "    }\n",
       "\n",
       "    .dataframe tbody tr th {\n",
       "        vertical-align: top;\n",
       "    }\n",
       "\n",
       "    .dataframe thead th {\n",
       "        text-align: right;\n",
       "    }\n",
       "</style>\n",
       "<table border=\"1\" class=\"dataframe\">\n",
       "  <thead>\n",
       "    <tr style=\"text-align: right;\">\n",
       "      <th></th>\n",
       "      <th>parcelid</th>\n",
       "      <th>logerror</th>\n",
       "      <th>transactiondate</th>\n",
       "    </tr>\n",
       "  </thead>\n",
       "  <tbody>\n",
       "    <tr>\n",
       "      <th>496</th>\n",
       "      <td>13850164</td>\n",
       "      <td>-0.1567</td>\n",
       "      <td>2016-01-05</td>\n",
       "    </tr>\n",
       "    <tr>\n",
       "      <th>497</th>\n",
       "      <td>13850164</td>\n",
       "      <td>-0.0460</td>\n",
       "      <td>2016-06-29</td>\n",
       "    </tr>\n",
       "    <tr>\n",
       "      <th>781</th>\n",
       "      <td>14677191</td>\n",
       "      <td>-0.3682</td>\n",
       "      <td>2016-01-06</td>\n",
       "    </tr>\n",
       "    <tr>\n",
       "      <th>782</th>\n",
       "      <td>14677191</td>\n",
       "      <td>-0.0845</td>\n",
       "      <td>2016-09-12</td>\n",
       "    </tr>\n",
       "    <tr>\n",
       "      <th>813</th>\n",
       "      <td>11005771</td>\n",
       "      <td>-0.0131</td>\n",
       "      <td>2016-01-06</td>\n",
       "    </tr>\n",
       "    <tr>\n",
       "      <th>814</th>\n",
       "      <td>11005771</td>\n",
       "      <td>0.0545</td>\n",
       "      <td>2016-06-17</td>\n",
       "    </tr>\n",
       "    <tr>\n",
       "      <th>967</th>\n",
       "      <td>11183209</td>\n",
       "      <td>-0.0481</td>\n",
       "      <td>2016-01-07</td>\n",
       "    </tr>\n",
       "    <tr>\n",
       "      <th>968</th>\n",
       "      <td>11183209</td>\n",
       "      <td>-0.0070</td>\n",
       "      <td>2016-09-14</td>\n",
       "    </tr>\n",
       "    <tr>\n",
       "      <th>1164</th>\n",
       "      <td>11554091</td>\n",
       "      <td>-0.1696</td>\n",
       "      <td>2016-01-07</td>\n",
       "    </tr>\n",
       "    <tr>\n",
       "      <th>1165</th>\n",
       "      <td>11554091</td>\n",
       "      <td>-0.0954</td>\n",
       "      <td>2016-07-05</td>\n",
       "    </tr>\n",
       "  </tbody>\n",
       "</table>\n",
       "</div>"
      ],
      "text/plain": [
       "      parcelid  logerror transactiondate\n",
       "496   13850164   -0.1567      2016-01-05\n",
       "497   13850164   -0.0460      2016-06-29\n",
       "781   14677191   -0.3682      2016-01-06\n",
       "782   14677191   -0.0845      2016-09-12\n",
       "813   11005771   -0.0131      2016-01-06\n",
       "814   11005771    0.0545      2016-06-17\n",
       "967   11183209   -0.0481      2016-01-07\n",
       "968   11183209   -0.0070      2016-09-14\n",
       "1164  11554091   -0.1696      2016-01-07\n",
       "1165  11554091   -0.0954      2016-07-05"
      ]
     },
     "execution_count": 7,
     "metadata": {},
     "output_type": "execute_result"
    }
   ],
   "source": [
    "# Identify and display duplicate rows based on the \"parcelid\" column\n",
    "duplicateRowsDF = raw_train_data[raw_train_data.duplicated([\"parcelid\"],keep=False)]\n",
    "print(\"All Duplicate Rows based on all columns are :\")\n",
    "pd.DataFrame(duplicateRowsDF.head(10))"
   ]
  },
  {
   "cell_type": "code",
   "execution_count": 8,
   "id": "baba289e-ca16-4b92-9edc-e2c491fb720f",
   "metadata": {},
   "outputs": [
    {
     "data": {
      "text/plain": [
       "11842707    3\n",
       "13850164    2\n",
       "11105038    2\n",
       "11602482    2\n",
       "12613442    2\n",
       "           ..\n",
       "11633771    2\n",
       "17151530    2\n",
       "10911172    2\n",
       "14678446    2\n",
       "14367791    2\n",
       "Name: parcelid, Length: 124, dtype: int64"
      ]
     },
     "execution_count": 8,
     "metadata": {},
     "output_type": "execute_result"
    }
   ],
   "source": [
    "# Count the occurrences of each unique value in the \"parcelid\" column within the identified duplicate rows\n",
    "duplicateRowsDF[\"parcelid\"].value_counts()"
   ]
  },
  {
   "cell_type": "code",
   "execution_count": 9,
   "id": "f5e1ddd1-ac6f-410a-9be3-9fca18c42369",
   "metadata": {},
   "outputs": [
    {
     "data": {
      "text/html": [
       "<div>\n",
       "<style scoped>\n",
       "    .dataframe tbody tr th:only-of-type {\n",
       "        vertical-align: middle;\n",
       "    }\n",
       "\n",
       "    .dataframe tbody tr th {\n",
       "        vertical-align: top;\n",
       "    }\n",
       "\n",
       "    .dataframe thead th {\n",
       "        text-align: right;\n",
       "    }\n",
       "</style>\n",
       "<table border=\"1\" class=\"dataframe\">\n",
       "  <thead>\n",
       "    <tr style=\"text-align: right;\">\n",
       "      <th></th>\n",
       "      <th>parcelid</th>\n",
       "      <th>logerror</th>\n",
       "      <th>transactiondate</th>\n",
       "    </tr>\n",
       "  </thead>\n",
       "  <tbody>\n",
       "    <tr>\n",
       "      <th>55794</th>\n",
       "      <td>11842707</td>\n",
       "      <td>-0.0284</td>\n",
       "      <td>2016-07-14</td>\n",
       "    </tr>\n",
       "    <tr>\n",
       "      <th>55795</th>\n",
       "      <td>11842707</td>\n",
       "      <td>0.0573</td>\n",
       "      <td>2016-08-22</td>\n",
       "    </tr>\n",
       "    <tr>\n",
       "      <th>55796</th>\n",
       "      <td>11842707</td>\n",
       "      <td>0.2078</td>\n",
       "      <td>2016-09-29</td>\n",
       "    </tr>\n",
       "  </tbody>\n",
       "</table>\n",
       "</div>"
      ],
      "text/plain": [
       "       parcelid  logerror transactiondate\n",
       "55794  11842707   -0.0284      2016-07-14\n",
       "55795  11842707    0.0573      2016-08-22\n",
       "55796  11842707    0.2078      2016-09-29"
      ]
     },
     "execution_count": 9,
     "metadata": {},
     "output_type": "execute_result"
    }
   ],
   "source": [
    "# Locate and display rows in duplicateRowsDF where \"parcelid\" is equal to 11842707\n",
    "duplicateRowsDF.loc[duplicateRowsDF[\"parcelid\"]==11842707]"
   ]
  },
  {
   "cell_type": "code",
   "execution_count": 10,
   "id": "dc245052-6269-4da7-93ed-bc6354494a02",
   "metadata": {},
   "outputs": [],
   "source": [
    "# Create a new DataFrame with unique rows based on \"parcelid,\" keeping the last occurrence in case of duplicates\n",
    "unique_train_data = raw_train_data.sort_values(\"transactiondate\").drop_duplicates(\"parcelid\",keep = \"last\")"
   ]
  },
  {
   "cell_type": "code",
   "execution_count": 11,
   "id": "92873dad-8115-4dff-bfef-6065e9ab3f34",
   "metadata": {},
   "outputs": [
    {
     "name": "stdout",
     "output_type": "stream",
     "text": [
      "unique_train_data has total 90150 records and 90150 are unique.\n"
     ]
    }
   ],
   "source": [
    "get_unique(\"unique_train_data\",unique_train_data[\"parcelid\"])"
   ]
  },
  {
   "cell_type": "code",
   "execution_count": 12,
   "id": "019b04fb-2497-44b5-8cd1-cf30117a6d4c",
   "metadata": {},
   "outputs": [],
   "source": [
    "# Create a new DataFrame to merge the house_data and unique_train_data DataFrames on the \"parcelid\" column, using a left join\n",
    "full_data = pd.DataFrame()\n",
    "full_data = pd.merge(house_data,unique_train_data,on=\"parcelid\",how=\"left\")"
   ]
  },
  {
   "cell_type": "code",
   "execution_count": 13,
   "id": "ba7326aa-0b0d-4a17-bbb1-419766236d76",
   "metadata": {},
   "outputs": [
    {
     "name": "stdout",
     "output_type": "stream",
     "text": [
      "full_data has total 2985217 records and 2985217 are unique.\n"
     ]
    }
   ],
   "source": [
    "get_unique(\"full_data\",full_data[\"parcelid\"])"
   ]
  },
  {
   "cell_type": "code",
   "execution_count": 14,
   "id": "e038e20f-fc20-47ca-bcb7-c59defa27875",
   "metadata": {},
   "outputs": [
    {
     "data": {
      "text/plain": [
       "90150"
      ]
     },
     "execution_count": 14,
     "metadata": {},
     "output_type": "execute_result"
    }
   ],
   "source": [
    "# Count the total number of occurrences of logerror in the full_data DataFrame\n",
    "full_data[\"logerror\"].value_counts().sum()"
   ]
  },
  {
   "cell_type": "code",
   "execution_count": 15,
   "id": "9d798846-4c07-407a-ad8b-715393b5c909",
   "metadata": {},
   "outputs": [
    {
     "data": {
      "text/plain": [
       "90150"
      ]
     },
     "execution_count": 15,
     "metadata": {},
     "output_type": "execute_result"
    }
   ],
   "source": [
    "# Filter rows in full_data where logerror is not NaN, creating the train_data DataFrame\n",
    "train_data = full_data[full_data[\"logerror\"].notna()]\n",
    "len(train_data)"
   ]
  },
  {
   "cell_type": "code",
   "execution_count": 16,
   "id": "aeaaeb35-dcb7-4833-b2d4-2aef2e4a7536",
   "metadata": {},
   "outputs": [
    {
     "data": {
      "text/plain": [
       "['airconditioningtypeid',\n",
       " 'architecturalstyletypeid',\n",
       " 'basementsqft',\n",
       " 'buildingclasstypeid',\n",
       " 'buildingqualitytypeid',\n",
       " 'decktypeid',\n",
       " 'finishedfloor1squarefeet',\n",
       " 'finishedsquarefeet13',\n",
       " 'finishedsquarefeet15',\n",
       " 'finishedsquarefeet50',\n",
       " 'finishedsquarefeet6',\n",
       " 'fireplacecnt',\n",
       " 'garagecarcnt',\n",
       " 'garagetotalsqft',\n",
       " 'hashottuborspa',\n",
       " 'heatingorsystemtypeid',\n",
       " 'poolcnt',\n",
       " 'poolsizesum',\n",
       " 'pooltypeid10',\n",
       " 'pooltypeid2',\n",
       " 'pooltypeid7',\n",
       " 'propertyzoningdesc',\n",
       " 'regionidneighborhood',\n",
       " 'storytypeid',\n",
       " 'threequarterbathnbr',\n",
       " 'typeconstructiontypeid',\n",
       " 'unitcnt',\n",
       " 'yardbuildingsqft17',\n",
       " 'yardbuildingsqft26',\n",
       " 'numberofstories',\n",
       " 'fireplaceflag',\n",
       " 'taxdelinquencyflag',\n",
       " 'taxdelinquencyyear']"
      ]
     },
     "execution_count": 16,
     "metadata": {},
     "output_type": "execute_result"
    }
   ],
   "source": [
    "def drop_columns(data_series):\n",
    "    \"\"\"\n",
    "    Function to identify and return a list of columns with missing values exceeding 30%.\n",
    "\n",
    "    Parameters:\n",
    "    - data_series: The Pandas Series or DataFrame for which missing values are analyzed.\n",
    "\n",
    "    Returns:\n",
    "    - drop_columns_list: A list of column names with missing values exceeding 30%.\n",
    "    \"\"\"\n",
    "    # Create a DataFrame with the percentage of missing values for each column\n",
    "    missing_value_df = pd.DataFrame((data_series.isnull().sum()/len(data_series))*100,columns=[\"missing_value\"])\n",
    "    \n",
    "    # Identify columns with missing values exceeding 30%\n",
    "    drop_columns_list = missing_value_df.loc[missing_value_df[\"missing_value\"]>30].index.to_list()\n",
    "    \n",
    "    return drop_columns_list\n",
    "\n",
    "drp_col = drop_columns(train_data)\n",
    "drp_col"
   ]
  },
  {
   "cell_type": "code",
   "execution_count": 17,
   "id": "b3f5931f-d922-4156-b1e3-8c9dc4986390",
   "metadata": {},
   "outputs": [
    {
     "name": "stderr",
     "output_type": "stream",
     "text": [
      "/work/cse478/shared/envs/hw/lib/python3.8/site-packages/pandas/core/frame.py:4901: SettingWithCopyWarning: \n",
      "A value is trying to be set on a copy of a slice from a DataFrame\n",
      "\n",
      "See the caveats in the documentation: https://pandas.pydata.org/pandas-docs/stable/user_guide/indexing.html#returning-a-view-versus-a-copy\n",
      "  return super().drop(\n"
     ]
    }
   ],
   "source": [
    "# Drop columns with missing values exceeding 30% from the train_data DataFrame\n",
    "train_data.drop(columns=drp_col,inplace = True)"
   ]
  },
  {
   "cell_type": "code",
   "execution_count": 18,
   "id": "e2469ef8-7e9d-4c82-85ca-ab074f0f5499",
   "metadata": {},
   "outputs": [
    {
     "data": {
      "text/plain": [
       "parcelid                         0.000000\n",
       "bathroomcnt                      0.000000\n",
       "bedroomcnt                       0.000000\n",
       "calculatedbathnbr                1.304493\n",
       "calculatedfinishedsquarefeet     0.729895\n",
       "finishedsquarefeet12             5.174709\n",
       "fips                             0.000000\n",
       "fullbathcnt                      1.304493\n",
       "latitude                         0.000000\n",
       "longitude                        0.000000\n",
       "lotsizesquarefeet               11.243483\n",
       "propertycountylandusecode        0.001109\n",
       "propertylandusetypeid            0.000000\n",
       "rawcensustractandblock           0.000000\n",
       "regionidcity                     1.997781\n",
       "regionidcounty                   0.000000\n",
       "regionidzip                      0.038824\n",
       "roomcnt                          0.000000\n",
       "yearbuilt                        0.835275\n",
       "structuretaxvaluedollarcnt       0.419301\n",
       "taxvaluedollarcnt                0.001109\n",
       "assessmentyear                   0.000000\n",
       "landtaxvaluedollarcnt            0.001109\n",
       "taxamount                        0.006656\n",
       "censustractandblock              0.668885\n",
       "logerror                         0.000000\n",
       "transactiondate                  0.000000\n",
       "dtype: float64"
      ]
     },
     "execution_count": 18,
     "metadata": {},
     "output_type": "execute_result"
    }
   ],
   "source": [
    "# Display the data types of each column in the train_data DataFrame\n",
    "(train_data.isnull().sum()/len(train_data))*100"
   ]
  },
  {
   "cell_type": "code",
   "execution_count": 19,
   "id": "9b3bb50d-c01e-4efe-84b0-58ec8a3a261b",
   "metadata": {},
   "outputs": [
    {
     "data": {
      "text/plain": [
       "parcelid                                 int64\n",
       "bathroomcnt                            float64\n",
       "bedroomcnt                             float64\n",
       "calculatedbathnbr                      float64\n",
       "calculatedfinishedsquarefeet           float64\n",
       "finishedsquarefeet12                   float64\n",
       "fips                                   float64\n",
       "fullbathcnt                            float64\n",
       "latitude                               float64\n",
       "longitude                              float64\n",
       "lotsizesquarefeet                      float64\n",
       "propertycountylandusecode               object\n",
       "propertylandusetypeid                  float64\n",
       "rawcensustractandblock                 float64\n",
       "regionidcity                           float64\n",
       "regionidcounty                         float64\n",
       "regionidzip                            float64\n",
       "roomcnt                                float64\n",
       "yearbuilt                              float64\n",
       "structuretaxvaluedollarcnt             float64\n",
       "taxvaluedollarcnt                      float64\n",
       "assessmentyear                         float64\n",
       "landtaxvaluedollarcnt                  float64\n",
       "taxamount                              float64\n",
       "censustractandblock                    float64\n",
       "logerror                               float64\n",
       "transactiondate                 datetime64[ns]\n",
       "dtype: object"
      ]
     },
     "execution_count": 19,
     "metadata": {},
     "output_type": "execute_result"
    }
   ],
   "source": [
    "# Display the data types of each column in the train_data DataFrame\n",
    "train_data.dtypes"
   ]
  },
  {
   "cell_type": "code",
   "execution_count": 20,
   "id": "286e130e-c668-4d49-b80d-67d283d21528",
   "metadata": {},
   "outputs": [],
   "source": [
    "# Drop the \"transactiondate\" column from the train_data DataFrame\n",
    "train_data.drop(columns=[\"transactiondate\"],inplace=True)"
   ]
  },
  {
   "cell_type": "code",
   "execution_count": 21,
   "id": "41530e62-b90e-41d9-bfc8-a1fcb767fb6e",
   "metadata": {},
   "outputs": [],
   "source": [
    "# Set the \"parcelid\" column as the index of the train_data DataFrame\n",
    "train_data.set_index('parcelid',inplace= True)"
   ]
  },
  {
   "cell_type": "code",
   "execution_count": 22,
   "id": "255ddc48-8b96-4a12-b353-07a22aa66729",
   "metadata": {},
   "outputs": [
    {
     "data": {
      "text/html": [
       "<div>\n",
       "<style scoped>\n",
       "    .dataframe tbody tr th:only-of-type {\n",
       "        vertical-align: middle;\n",
       "    }\n",
       "\n",
       "    .dataframe tbody tr th {\n",
       "        vertical-align: top;\n",
       "    }\n",
       "\n",
       "    .dataframe thead th {\n",
       "        text-align: right;\n",
       "    }\n",
       "</style>\n",
       "<table border=\"1\" class=\"dataframe\">\n",
       "  <thead>\n",
       "    <tr style=\"text-align: right;\">\n",
       "      <th></th>\n",
       "      <th>bathroomcnt</th>\n",
       "      <th>bedroomcnt</th>\n",
       "      <th>calculatedbathnbr</th>\n",
       "      <th>calculatedfinishedsquarefeet</th>\n",
       "      <th>finishedsquarefeet12</th>\n",
       "      <th>fips</th>\n",
       "      <th>fullbathcnt</th>\n",
       "      <th>latitude</th>\n",
       "      <th>longitude</th>\n",
       "      <th>lotsizesquarefeet</th>\n",
       "      <th>...</th>\n",
       "      <th>regionidzip</th>\n",
       "      <th>roomcnt</th>\n",
       "      <th>yearbuilt</th>\n",
       "      <th>structuretaxvaluedollarcnt</th>\n",
       "      <th>taxvaluedollarcnt</th>\n",
       "      <th>assessmentyear</th>\n",
       "      <th>landtaxvaluedollarcnt</th>\n",
       "      <th>taxamount</th>\n",
       "      <th>censustractandblock</th>\n",
       "      <th>logerror</th>\n",
       "    </tr>\n",
       "    <tr>\n",
       "      <th>parcelid</th>\n",
       "      <th></th>\n",
       "      <th></th>\n",
       "      <th></th>\n",
       "      <th></th>\n",
       "      <th></th>\n",
       "      <th></th>\n",
       "      <th></th>\n",
       "      <th></th>\n",
       "      <th></th>\n",
       "      <th></th>\n",
       "      <th></th>\n",
       "      <th></th>\n",
       "      <th></th>\n",
       "      <th></th>\n",
       "      <th></th>\n",
       "      <th></th>\n",
       "      <th></th>\n",
       "      <th></th>\n",
       "      <th></th>\n",
       "      <th></th>\n",
       "      <th></th>\n",
       "    </tr>\n",
       "  </thead>\n",
       "  <tbody>\n",
       "    <tr>\n",
       "      <th>17073783</th>\n",
       "      <td>2.5</td>\n",
       "      <td>3.0</td>\n",
       "      <td>2.5</td>\n",
       "      <td>1264.0</td>\n",
       "      <td>1264.0</td>\n",
       "      <td>6111.0</td>\n",
       "      <td>2.0</td>\n",
       "      <td>34303597.0</td>\n",
       "      <td>-119287236.0</td>\n",
       "      <td>1735.0</td>\n",
       "      <td>...</td>\n",
       "      <td>97081.0</td>\n",
       "      <td>5.0</td>\n",
       "      <td>1986.0</td>\n",
       "      <td>115087.0</td>\n",
       "      <td>191811.0</td>\n",
       "      <td>2015.0</td>\n",
       "      <td>76724.0</td>\n",
       "      <td>2015.06</td>\n",
       "      <td>6.111002e+13</td>\n",
       "      <td>0.0953</td>\n",
       "    </tr>\n",
       "    <tr>\n",
       "      <th>17088994</th>\n",
       "      <td>1.0</td>\n",
       "      <td>2.0</td>\n",
       "      <td>1.0</td>\n",
       "      <td>777.0</td>\n",
       "      <td>777.0</td>\n",
       "      <td>6111.0</td>\n",
       "      <td>1.0</td>\n",
       "      <td>34272866.0</td>\n",
       "      <td>-119198911.0</td>\n",
       "      <td>NaN</td>\n",
       "      <td>...</td>\n",
       "      <td>97083.0</td>\n",
       "      <td>4.0</td>\n",
       "      <td>1990.0</td>\n",
       "      <td>143809.0</td>\n",
       "      <td>239679.0</td>\n",
       "      <td>2015.0</td>\n",
       "      <td>95870.0</td>\n",
       "      <td>2581.30</td>\n",
       "      <td>6.111002e+13</td>\n",
       "      <td>0.0198</td>\n",
       "    </tr>\n",
       "    <tr>\n",
       "      <th>17100444</th>\n",
       "      <td>2.0</td>\n",
       "      <td>3.0</td>\n",
       "      <td>2.0</td>\n",
       "      <td>1101.0</td>\n",
       "      <td>1101.0</td>\n",
       "      <td>6111.0</td>\n",
       "      <td>2.0</td>\n",
       "      <td>34340801.0</td>\n",
       "      <td>-119079610.0</td>\n",
       "      <td>6569.0</td>\n",
       "      <td>...</td>\n",
       "      <td>97113.0</td>\n",
       "      <td>5.0</td>\n",
       "      <td>1956.0</td>\n",
       "      <td>33619.0</td>\n",
       "      <td>47853.0</td>\n",
       "      <td>2015.0</td>\n",
       "      <td>14234.0</td>\n",
       "      <td>591.64</td>\n",
       "      <td>6.111001e+13</td>\n",
       "      <td>0.0060</td>\n",
       "    </tr>\n",
       "    <tr>\n",
       "      <th>17102429</th>\n",
       "      <td>1.5</td>\n",
       "      <td>2.0</td>\n",
       "      <td>1.5</td>\n",
       "      <td>1554.0</td>\n",
       "      <td>1554.0</td>\n",
       "      <td>6111.0</td>\n",
       "      <td>1.0</td>\n",
       "      <td>34354313.0</td>\n",
       "      <td>-119076405.0</td>\n",
       "      <td>7400.0</td>\n",
       "      <td>...</td>\n",
       "      <td>97113.0</td>\n",
       "      <td>5.0</td>\n",
       "      <td>1965.0</td>\n",
       "      <td>45609.0</td>\n",
       "      <td>62914.0</td>\n",
       "      <td>2015.0</td>\n",
       "      <td>17305.0</td>\n",
       "      <td>682.78</td>\n",
       "      <td>6.111001e+13</td>\n",
       "      <td>-0.0566</td>\n",
       "    </tr>\n",
       "    <tr>\n",
       "      <th>17109604</th>\n",
       "      <td>2.5</td>\n",
       "      <td>4.0</td>\n",
       "      <td>2.5</td>\n",
       "      <td>2415.0</td>\n",
       "      <td>2415.0</td>\n",
       "      <td>6111.0</td>\n",
       "      <td>2.0</td>\n",
       "      <td>34266578.0</td>\n",
       "      <td>-119165392.0</td>\n",
       "      <td>6326.0</td>\n",
       "      <td>...</td>\n",
       "      <td>97084.0</td>\n",
       "      <td>8.0</td>\n",
       "      <td>1984.0</td>\n",
       "      <td>277000.0</td>\n",
       "      <td>554000.0</td>\n",
       "      <td>2015.0</td>\n",
       "      <td>277000.0</td>\n",
       "      <td>5886.92</td>\n",
       "      <td>6.111001e+13</td>\n",
       "      <td>0.0573</td>\n",
       "    </tr>\n",
       "  </tbody>\n",
       "</table>\n",
       "<p>5 rows × 25 columns</p>\n",
       "</div>"
      ],
      "text/plain": [
       "          bathroomcnt  bedroomcnt  calculatedbathnbr  \\\n",
       "parcelid                                               \n",
       "17073783          2.5         3.0                2.5   \n",
       "17088994          1.0         2.0                1.0   \n",
       "17100444          2.0         3.0                2.0   \n",
       "17102429          1.5         2.0                1.5   \n",
       "17109604          2.5         4.0                2.5   \n",
       "\n",
       "          calculatedfinishedsquarefeet  finishedsquarefeet12    fips  \\\n",
       "parcelid                                                               \n",
       "17073783                        1264.0                1264.0  6111.0   \n",
       "17088994                         777.0                 777.0  6111.0   \n",
       "17100444                        1101.0                1101.0  6111.0   \n",
       "17102429                        1554.0                1554.0  6111.0   \n",
       "17109604                        2415.0                2415.0  6111.0   \n",
       "\n",
       "          fullbathcnt    latitude    longitude  lotsizesquarefeet  ...  \\\n",
       "parcelid                                                           ...   \n",
       "17073783          2.0  34303597.0 -119287236.0             1735.0  ...   \n",
       "17088994          1.0  34272866.0 -119198911.0                NaN  ...   \n",
       "17100444          2.0  34340801.0 -119079610.0             6569.0  ...   \n",
       "17102429          1.0  34354313.0 -119076405.0             7400.0  ...   \n",
       "17109604          2.0  34266578.0 -119165392.0             6326.0  ...   \n",
       "\n",
       "         regionidzip  roomcnt  yearbuilt  structuretaxvaluedollarcnt  \\\n",
       "parcelid                                                               \n",
       "17073783     97081.0      5.0     1986.0                    115087.0   \n",
       "17088994     97083.0      4.0     1990.0                    143809.0   \n",
       "17100444     97113.0      5.0     1956.0                     33619.0   \n",
       "17102429     97113.0      5.0     1965.0                     45609.0   \n",
       "17109604     97084.0      8.0     1984.0                    277000.0   \n",
       "\n",
       "          taxvaluedollarcnt  assessmentyear  landtaxvaluedollarcnt  taxamount  \\\n",
       "parcelid                                                                        \n",
       "17073783           191811.0          2015.0                76724.0    2015.06   \n",
       "17088994           239679.0          2015.0                95870.0    2581.30   \n",
       "17100444            47853.0          2015.0                14234.0     591.64   \n",
       "17102429            62914.0          2015.0                17305.0     682.78   \n",
       "17109604           554000.0          2015.0               277000.0    5886.92   \n",
       "\n",
       "          censustractandblock  logerror  \n",
       "parcelid                                 \n",
       "17073783         6.111002e+13    0.0953  \n",
       "17088994         6.111002e+13    0.0198  \n",
       "17100444         6.111001e+13    0.0060  \n",
       "17102429         6.111001e+13   -0.0566  \n",
       "17109604         6.111001e+13    0.0573  \n",
       "\n",
       "[5 rows x 25 columns]"
      ]
     },
     "execution_count": 22,
     "metadata": {},
     "output_type": "execute_result"
    }
   ],
   "source": [
    "train_data.head()"
   ]
  },
  {
   "cell_type": "code",
   "execution_count": 23,
   "id": "5ce4bffe-47e1-419a-a40e-8f9c30083fdb",
   "metadata": {},
   "outputs": [],
   "source": [
    "# Separate features (X) and target variable (y) from the train_data DataFrame\n",
    "X = train_data.drop(columns = ['logerror'],inplace=False)\n",
    "y = pd.DataFrame(train_data['logerror'])\n",
    "\n",
    "# Split the data into training and testing sets using train_test_split\n",
    "X_train, X_test, y_train, y_test = train_test_split(X, y, test_size=0.30, random_state=42)"
   ]
  },
  {
   "cell_type": "code",
   "execution_count": 24,
   "id": "950328ac-528a-4ba7-ba33-8474e672a76b",
   "metadata": {},
   "outputs": [
    {
     "name": "stderr",
     "output_type": "stream",
     "text": [
      "/work/cse478/shared/envs/hw/lib/python3.8/site-packages/pandas/core/frame.py:3607: SettingWithCopyWarning: \n",
      "A value is trying to be set on a copy of a slice from a DataFrame.\n",
      "Try using .loc[row_indexer,col_indexer] = value instead\n",
      "\n",
      "See the caveats in the documentation: https://pandas.pydata.org/pandas-docs/stable/user_guide/indexing.html#returning-a-view-versus-a-copy\n",
      "  self._set_item(key, value)\n"
     ]
    }
   ],
   "source": [
    "# Convert all columns in X_train to numeric, coercing errors to NaN\n",
    "X_train[X_train.columns] = X_train[X_train.columns].apply(pd.to_numeric, errors='coerce')"
   ]
  },
  {
   "cell_type": "code",
   "execution_count": 25,
   "id": "69aa5232-8363-4277-8070-6be89889e3e3",
   "metadata": {},
   "outputs": [],
   "source": [
    "# Fill missing values in X_train with the median of each column\n",
    "X_train = X_train.fillna(X_train.median())\n",
    "\n",
    "# Convert all columns in X_test to numeric, coercing errors to NaN\n",
    "X_test[X_test.columns] = X_test[X_test.columns].apply(pd.to_numeric, errors='coerce')\n",
    "\n",
    "# Fill missing values in X_test with the median of each column\n",
    "X_test = X_test.fillna(X_test.median())"
   ]
  },
  {
   "cell_type": "markdown",
   "id": "c80a45ae-e53b-486f-a483-fb6eb16451ed",
   "metadata": {},
   "source": [
    "## Linear Regression "
   ]
  },
  {
   "cell_type": "code",
   "execution_count": 26,
   "id": "61e67a62-4e6a-4cfc-b39f-f52a18bb5292",
   "metadata": {},
   "outputs": [],
   "source": [
    "from sklearn.linear_model import LinearRegression\n",
    "\n",
    "# Create a Linear Regression model and fit it to the training data\n",
    "reg = LinearRegression().fit(X_train, y_train)\n",
    "\n",
    "# Make predictions on the test data\n",
    "y_pred = reg.predict(X_test)"
   ]
  },
  {
   "cell_type": "code",
   "execution_count": 27,
   "id": "58c8f594-66e1-4fe5-854e-dadd23fa2910",
   "metadata": {},
   "outputs": [
    {
     "name": "stdout",
     "output_type": "stream",
     "text": [
      "Linear Regression Mean Absolute Error: 0.06807909159037989\n"
     ]
    }
   ],
   "source": [
    "from sklearn import metrics\n",
    "\n",
    "# Calculate and print the mean absolute error between the actual and predicted values\n",
    "mae_lin = metrics.mean_absolute_error(y_test, y_pred)\n",
    "print(\"Linear Regression Mean Absolute Error:\", mae_lin)"
   ]
  },
  {
   "cell_type": "markdown",
   "id": "653e41de-e5a4-4560-94a7-c86c5d95e0c3",
   "metadata": {},
   "source": [
    "## XGBoost "
   ]
  },
  {
   "cell_type": "code",
   "execution_count": 28,
   "id": "ad66181a-a0e3-41be-b49f-93c10faf2bf2",
   "metadata": {},
   "outputs": [],
   "source": [
    "import xgboost as xgb"
   ]
  },
  {
   "cell_type": "code",
   "execution_count": 29,
   "id": "d57dd647-c36e-4580-9d64-94eac8291d31",
   "metadata": {},
   "outputs": [],
   "source": [
    "# Convert data to DMatrix format\n",
    "dtrain = xgb.DMatrix(X_train, label=y_train)\n",
    "dtest = xgb.DMatrix(X_test, label=y_test)"
   ]
  },
  {
   "cell_type": "code",
   "execution_count": 30,
   "id": "66cbdf53-b64e-4336-8a29-100b39a6530f",
   "metadata": {},
   "outputs": [],
   "source": [
    "# Set the parameters for XGBoost\n",
    "params = {\n",
    "    'objective': 'reg:squarederror',\n",
    "    'eval_metric': 'mae',\n",
    "    'max_depth': 6,  # Adjust the depth as needed\n",
    "    'eta': 0.1,       # Learning rate\n",
    "    'subsample': 0.8,\n",
    "    'colsample_bytree': 0.8,\n",
    "    'seed': 42\n",
    "}"
   ]
  },
  {
   "cell_type": "code",
   "execution_count": 31,
   "id": "027ceaa2-2edc-486f-8f04-7fd930d93f5b",
   "metadata": {},
   "outputs": [],
   "source": [
    "# Train the XGBoost model\n",
    "num_round = 100  # Adjust the number of boosting rounds as needed\n",
    "model = xgb.train(params, dtrain, num_round)"
   ]
  },
  {
   "cell_type": "code",
   "execution_count": 32,
   "id": "8610cc0f-87bb-4a30-b09e-6ccb9b4d449f",
   "metadata": {},
   "outputs": [],
   "source": [
    "# Make predictions on the test set\n",
    "y_pred_xgb = model.predict(dtest)"
   ]
  },
  {
   "cell_type": "code",
   "execution_count": 33,
   "id": "9ed21169-5032-451b-ae23-46d0d6f0d89b",
   "metadata": {},
   "outputs": [
    {
     "name": "stdout",
     "output_type": "stream",
     "text": [
      "XGBoost Mean Absolute Error: 0.06889196251775133\n"
     ]
    }
   ],
   "source": [
    "# Evaluate the performance of the XGBoost model\n",
    "mae_xgb = metrics.mean_absolute_error(y_test, y_pred_xgb)\n",
    "print(\"XGBoost Mean Absolute Error:\", mae_xgb)"
   ]
  },
  {
   "cell_type": "markdown",
   "id": "742b3639-6e3a-4423-bbaa-44e08e827285",
   "metadata": {},
   "source": [
    "## Comparison of Results"
   ]
  },
  {
   "cell_type": "code",
   "execution_count": 34,
   "id": "6740351f-3f3d-41dc-ac69-86f0aa052474",
   "metadata": {},
   "outputs": [],
   "source": [
    "import matplotlib.pyplot as plt\n",
    "from scipy import stats"
   ]
  },
  {
   "cell_type": "code",
   "execution_count": 35,
   "id": "fb3d93ad-42aa-48f0-89aa-be2e6ece8c73",
   "metadata": {},
   "outputs": [],
   "source": [
    "### Visualizations (Scatter plot)"
   ]
  },
  {
   "cell_type": "code",
   "execution_count": 36,
   "id": "5eda6d9e-4cff-4ad7-a9ef-c64640e996e0",
   "metadata": {},
   "outputs": [
    {
     "data": {
      "image/png": "[encoded data removed]",
      "text/plain": [
       "<Figure size 432x288 with 1 Axes>"
      ]
     },
     "metadata": {
      "needs_background": "light"
     },
     "output_type": "display_data"
    }
   ],
   "source": [
    "plt.scatter(y_test, y_pred, label='Linear Regression')\n",
    "plt.scatter(y_test, y_pred_xgb, label='XGBoost')\n",
    "plt.xlabel('Actual Values')\n",
    "plt.ylabel('Predicted Values')\n",
    "plt.legend()\n",
    "plt.title('Actual vs Predicted Values Comparison')\n",
    "plt.show()"
   ]
  },
  {
   "cell_type": "code",
   "execution_count": 37,
   "id": "cdc4bd11-b91c-4927-a316-de8e675aed70",
   "metadata": {},
   "outputs": [],
   "source": [
    "### Statistical Test (Paired t-test)"
   ]
  },
  {
   "cell_type": "code",
   "execution_count": 38,
   "id": "ace30669-257d-4d2c-8c03-b014b11002d8",
   "metadata": {},
   "outputs": [
    {
     "name": "stdout",
     "output_type": "stream",
     "text": [
      "Paired t-test p-value: 0.12613318354706882\n"
     ]
    }
   ],
   "source": [
    "_, p_value = stats.ttest_rel(y_test.values.flatten(), y_pred_xgb)\n",
    "print(\"Paired t-test p-value:\", p_value)"
   ]
  },
  {
   "cell_type": "code",
   "execution_count": 39,
   "id": "42092139-7c4d-4ae9-beeb-f15c09e22f43",
   "metadata": {},
   "outputs": [],
   "source": [
    "### Feature Importance from the XGBoost model"
   ]
  },
  {
   "cell_type": "code",
   "execution_count": 40,
   "id": "5f30cb35-cce5-4c16-a249-c06f228efc75",
   "metadata": {},
   "outputs": [
    {
     "name": "stdout",
     "output_type": "stream",
     "text": [
      "XGBoost Feature Importance: {'structuretaxvaluedollarcnt': 264, 'bathroomcnt': 194, 'finishedsquarefeet12': 117, 'taxamount': 253, 'taxvaluedollarcnt': 166, 'rawcensustractandblock': 92, 'latitude': 268, 'longitude': 236, 'propertycountylandusecode': 86, 'calculatedfinishedsquarefeet': 323, 'roomcnt': 32, 'regionidzip': 114, 'landtaxvaluedollarcnt': 183, 'bedroomcnt': 143, 'yearbuilt': 168, 'regionidcity': 73, 'lotsizesquarefeet': 286, 'censustractandblock': 63, 'propertylandusetypeid': 27, 'calculatedbathnbr': 33, 'fips': 13, 'fullbathcnt': 5}\n"
     ]
    }
   ],
   "source": [
    "feature_importance = model.get_fscore()\n",
    "print(\"XGBoost Feature Importance:\", feature_importance)"
   ]
  },
  {
   "cell_type": "code",
   "execution_count": 41,
   "id": "67ec752f-eb94-4c07-bd64-34d3f6e9216e",
   "metadata": {},
   "outputs": [],
   "source": [
    "### Cross Validation"
   ]
  },
  {
   "cell_type": "code",
   "execution_count": 42,
   "id": "42196853-33e6-406a-8511-8438700a2d00",
   "metadata": {},
   "outputs": [],
   "source": [
    "from sklearn.model_selection import cross_val_score, KFold"
   ]
  },
  {
   "cell_type": "code",
   "execution_count": 43,
   "id": "4ac5b99f-7974-4458-847d-a956916f42ac",
   "metadata": {},
   "outputs": [],
   "source": [
    "# Define the models\n",
    "models = {\n",
    "    \"Linear Regression\": LinearRegression(),\n",
    "    \"XGBoost\": xgb.XGBRegressor(\n",
    "        objective=\"reg:squarederror\",\n",
    "        eval_metric=\"mae\",\n",
    "        max_depth=6,\n",
    "        eta=0.1,\n",
    "        subsample=0.8,\n",
    "        colsample_bytree=0.8,\n",
    "        seed=42,\n",
    "    )\n",
    "}"
   ]
  },
  {
   "cell_type": "code",
   "execution_count": 44,
   "id": "3b808aaa-0ecd-4a54-b085-1de9d7d05180",
   "metadata": {},
   "outputs": [],
   "source": [
    "# Perform K-fold cross-validation\n",
    "kf = KFold(n_splits=5, shuffle=True, random_state=42)\n",
    "results = {model_name: [] for model_name in models}"
   ]
  },
  {
   "cell_type": "code",
   "execution_count": 45,
   "id": "6b412a7c-10c5-4391-a862-e2ea1009664d",
   "metadata": {},
   "outputs": [
    {
     "name": "stderr",
     "output_type": "stream",
     "text": [
      "/work/cse478/shared/envs/hw/lib/python3.8/site-packages/xgboost/data.py:112: UserWarning: Use subset (sliced data) of np.ndarray is not recommended because it will generate extra copies and increase memory consumption\n",
      "  warnings.warn(\n",
      "/work/cse478/shared/envs/hw/lib/python3.8/site-packages/xgboost/data.py:112: UserWarning: Use subset (sliced data) of np.ndarray is not recommended because it will generate extra copies and increase memory consumption\n",
      "  warnings.warn(\n",
      "/work/cse478/shared/envs/hw/lib/python3.8/site-packages/xgboost/data.py:112: UserWarning: Use subset (sliced data) of np.ndarray is not recommended because it will generate extra copies and increase memory consumption\n",
      "  warnings.warn(\n",
      "/work/cse478/shared/envs/hw/lib/python3.8/site-packages/xgboost/data.py:112: UserWarning: Use subset (sliced data) of np.ndarray is not recommended because it will generate extra copies and increase memory consumption\n",
      "  warnings.warn(\n",
      "/work/cse478/shared/envs/hw/lib/python3.8/site-packages/xgboost/data.py:112: UserWarning: Use subset (sliced data) of np.ndarray is not recommended because it will generate extra copies and increase memory consumption\n",
      "  warnings.warn(\n"
     ]
    }
   ],
   "source": [
    "for model_name, model in models.items():\n",
    "    for train_index, val_index in kf.split(X_train):\n",
    "        # Train the model\n",
    "        model.fit(X_train.iloc[train_index], y_train.iloc[train_index])\n",
    "\n",
    "        # Make predictions on the validation set\n",
    "        y_pred = model.predict(X_train.iloc[val_index])\n",
    "\n",
    "        # Calculate and store mean absolute error\n",
    "        score = metrics.mean_absolute_error(y_train.iloc[val_index], y_pred)\n",
    "        results[model_name].append(score)"
   ]
  },
  {
   "cell_type": "code",
   "execution_count": 46,
   "id": "9410d5ab-ef86-4ee2-88ea-9b4566e4e060",
   "metadata": {},
   "outputs": [
    {
     "name": "stdout",
     "output_type": "stream",
     "text": [
      "\n",
      "Model: Linear Regression\n",
      "Mean Absolute Error: 0.0686558838091091\n",
      "\n",
      "Model: XGBoost\n",
      "Mean Absolute Error: 0.06967672013784199\n"
     ]
    }
   ],
   "source": [
    "# Print average mean absolute error for each model\n",
    "for model_name, scores in results.items():\n",
    "    mean_score = np.mean(scores)\n",
    "    print(f\"\\nModel: {model_name}\")\n",
    "    print(f\"Mean Absolute Error: {mean_score}\")"
   ]
  }
 ],
 "metadata": {
  "kernelspec": {
   "display_name": "Python CSE478",
   "language": "python",
   "name": "cse478-hw"
  },
  "language_info": {
   "codemirror_mode": {
    "name": "ipython",
    "version": 3
   },
   "file_extension": ".py",
   "mimetype": "text/x-python",
   "name": "python",
   "nbconvert_exporter": "python",
   "pygments_lexer": "ipython3",
   "version": "3.8.10"
  }
 },
 "nbformat": 4,
 "nbformat_minor": 5
}
